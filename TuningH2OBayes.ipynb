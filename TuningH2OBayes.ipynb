{
 "cells": [
  {
   "cell_type": "code",
   "execution_count": 74,
   "metadata": {},
   "outputs": [],
   "source": [
    "import h2o\n",
    "import time\n",
    "import seaborn\n",
    "import itertools\n",
    "import numpy as np\n",
    "import pandas as pd\n",
    "import seaborn as sns\n",
    "import matplotlib.pyplot as plt\n",
    "from h2o.estimators.glm import H2OGeneralizedLinearEstimator\n",
    "from h2o.estimators.gbm import H2OGradientBoostingEstimator\n",
    "from h2o.estimators.random_forest import H2ORandomForestEstimator\n",
    "\n",
    "%matplotlib inline"
   ]
  },
  {
   "cell_type": "code",
   "execution_count": 75,
   "metadata": {},
   "outputs": [],
   "source": [
    "import h2o"
   ]
  },
  {
   "cell_type": "code",
   "execution_count": 76,
   "metadata": {},
   "outputs": [],
   "source": [
    "from h2o.estimators.gbm import H2OGradientBoostingEstimator"
   ]
  },
  {
   "cell_type": "code",
   "execution_count": 77,
   "metadata": {},
   "outputs": [],
   "source": [
    "from bayes_opt import BayesianOptimization"
   ]
  },
  {
   "cell_type": "code",
   "execution_count": 78,
   "metadata": {},
   "outputs": [
    {
     "name": "stdout",
     "output_type": "stream",
     "text": [
      "Checking whether there is an H2O instance running at http://localhost:54321 . connected.\n"
     ]
    },
    {
     "data": {
      "text/html": [
       "<div style=\"overflow:auto\"><table style=\"width:50%\"><tr><td>H2O cluster uptime:</td>\n",
       "<td>2 hours 12 mins</td></tr>\n",
       "<tr><td>H2O cluster timezone:</td>\n",
       "<td>America/New_York</td></tr>\n",
       "<tr><td>H2O data parsing timezone:</td>\n",
       "<td>UTC</td></tr>\n",
       "<tr><td>H2O cluster version:</td>\n",
       "<td>3.26.0.6</td></tr>\n",
       "<tr><td>H2O cluster version age:</td>\n",
       "<td>1 month and 2 days </td></tr>\n",
       "<tr><td>H2O cluster name:</td>\n",
       "<td>H2O_from_python_ssafini_xj04p5</td></tr>\n",
       "<tr><td>H2O cluster total nodes:</td>\n",
       "<td>1</td></tr>\n",
       "<tr><td>H2O cluster free memory:</td>\n",
       "<td>0</td></tr>\n",
       "<tr><td>H2O cluster total cores:</td>\n",
       "<td>4</td></tr>\n",
       "<tr><td>H2O cluster allowed cores:</td>\n",
       "<td>4</td></tr>\n",
       "<tr><td>H2O cluster status:</td>\n",
       "<td>locked, healthy</td></tr>\n",
       "<tr><td>H2O connection url:</td>\n",
       "<td>http://localhost:54321</td></tr>\n",
       "<tr><td>H2O connection proxy:</td>\n",
       "<td>None</td></tr>\n",
       "<tr><td>H2O internal security:</td>\n",
       "<td>False</td></tr>\n",
       "<tr><td>H2O API Extensions:</td>\n",
       "<td>Amazon S3, Algos, AutoML, Core V3, TargetEncoder, Core V4</td></tr>\n",
       "<tr><td>Python version:</td>\n",
       "<td>3.7.3 final</td></tr></table></div>"
      ],
      "text/plain": [
       "--------------------------  ---------------------------------------------------------\n",
       "H2O cluster uptime:         2 hours 12 mins\n",
       "H2O cluster timezone:       America/New_York\n",
       "H2O data parsing timezone:  UTC\n",
       "H2O cluster version:        3.26.0.6\n",
       "H2O cluster version age:    1 month and 2 days\n",
       "H2O cluster name:           H2O_from_python_ssafini_xj04p5\n",
       "H2O cluster total nodes:    1\n",
       "H2O cluster free memory:    0\n",
       "H2O cluster total cores:    4\n",
       "H2O cluster allowed cores:  4\n",
       "H2O cluster status:         locked, healthy\n",
       "H2O connection url:         http://localhost:54321\n",
       "H2O connection proxy:\n",
       "H2O internal security:      False\n",
       "H2O API Extensions:         Amazon S3, Algos, AutoML, Core V3, TargetEncoder, Core V4\n",
       "Python version:             3.7.3 final\n",
       "--------------------------  ---------------------------------------------------------"
      ]
     },
     "metadata": {},
     "output_type": "display_data"
    }
   ],
   "source": [
    "h2o.init()"
   ]
  },
  {
   "cell_type": "code",
   "execution_count": 79,
   "metadata": {},
   "outputs": [],
   "source": [
    "h2o.remove_all()"
   ]
  },
  {
   "cell_type": "code",
   "execution_count": 80,
   "metadata": {},
   "outputs": [
    {
     "name": "stdout",
     "output_type": "stream",
     "text": [
      "Parse progress: |█████████████████████████████████████████████████████████| 100%\n"
     ]
    }
   ],
   "source": [
    "data = h2o.upload_file(r\"C:\\Users\\ssafini\\Desktop\\HEC_A19\\TIA\\projet\\winequality-red.csv\",sep = \";\", destination_frame=\"wine_df\")"
   ]
  },
  {
   "cell_type": "code",
   "execution_count": 81,
   "metadata": {},
   "outputs": [
    {
     "name": "stdout",
     "output_type": "stream",
     "text": [
      "Rows:1599\n",
      "Cols:12\n",
      "\n",
      "\n"
     ]
    },
    {
     "data": {
      "text/html": [
       "<table>\n",
       "<thead>\n",
       "<tr><th>       </th><th>fixed acidity     </th><th>volatile acidity   </th><th>citric acid        </th><th>residual sugar   </th><th>chlorides           </th><th>free sulfur dioxide  </th><th>total sulfur dioxide  </th><th>density              </th><th>pH                 </th><th>sulphates         </th><th>alcohol           </th><th>quality           </th></tr>\n",
       "</thead>\n",
       "<tbody>\n",
       "<tr><td>type   </td><td>real              </td><td>real               </td><td>real               </td><td>real             </td><td>real                </td><td>real                 </td><td>real                  </td><td>real                 </td><td>real               </td><td>real              </td><td>real              </td><td>int               </td></tr>\n",
       "<tr><td>mins   </td><td>4.6               </td><td>0.12               </td><td>0.0                </td><td>0.9              </td><td>0.012               </td><td>1.0                  </td><td>6.0                   </td><td>0.99007              </td><td>2.74               </td><td>0.33              </td><td>8.4               </td><td>3.0               </td></tr>\n",
       "<tr><td>mean   </td><td>8.319637273295799 </td><td>0.5278205128205145 </td><td>0.27097560975609747</td><td>2.538805503439649</td><td>0.08746654158849286 </td><td>15.874921826141357   </td><td>46.46779237023142     </td><td>0.9967466791744843   </td><td>3.3111131957473443 </td><td>0.6581488430268921</td><td>10.422983114446522</td><td>5.636022514071286 </td></tr>\n",
       "<tr><td>maxs   </td><td>15.9              </td><td>1.58               </td><td>1.0                </td><td>15.5             </td><td>0.611               </td><td>72.0                 </td><td>289.0                 </td><td>1.00369              </td><td>4.01               </td><td>2.0               </td><td>14.9              </td><td>8.0               </td></tr>\n",
       "<tr><td>sigma  </td><td>1.7410963181276946</td><td>0.17905970415353528</td><td>0.19480113740531824</td><td>1.40992805950728 </td><td>0.047065302010090085</td><td>10.46015696980971    </td><td>32.89532447829907     </td><td>0.0018873339538427274</td><td>0.15438646490354271</td><td>0.1695069795901101</td><td>1.0656675818473935</td><td>0.8075694397347051</td></tr>\n",
       "<tr><td>zeros  </td><td>0                 </td><td>0                  </td><td>132                </td><td>0                </td><td>0                   </td><td>0                    </td><td>0                     </td><td>0                    </td><td>0                  </td><td>0                 </td><td>0                 </td><td>0                 </td></tr>\n",
       "<tr><td>missing</td><td>0                 </td><td>0                  </td><td>0                  </td><td>0                </td><td>0                   </td><td>0                    </td><td>0                     </td><td>0                    </td><td>0                  </td><td>0                 </td><td>0                 </td><td>0                 </td></tr>\n",
       "<tr><td>0      </td><td>7.4               </td><td>0.7                </td><td>0.0                </td><td>1.9              </td><td>0.076               </td><td>11.0                 </td><td>34.0                  </td><td>0.9978               </td><td>3.51               </td><td>0.56              </td><td>9.4               </td><td>5.0               </td></tr>\n",
       "<tr><td>1      </td><td>7.8               </td><td>0.88               </td><td>0.0                </td><td>2.6              </td><td>0.098               </td><td>25.0                 </td><td>67.0                  </td><td>0.9968               </td><td>3.2                </td><td>0.68              </td><td>9.8               </td><td>5.0               </td></tr>\n",
       "<tr><td>2      </td><td>7.8               </td><td>0.76               </td><td>0.04               </td><td>2.3              </td><td>0.092               </td><td>15.0                 </td><td>54.0                  </td><td>0.997                </td><td>3.26               </td><td>0.65              </td><td>9.8               </td><td>5.0               </td></tr>\n",
       "<tr><td>3      </td><td>11.2              </td><td>0.28               </td><td>0.56               </td><td>1.9              </td><td>0.075               </td><td>17.0                 </td><td>60.0                  </td><td>0.998                </td><td>3.16               </td><td>0.58              </td><td>9.8               </td><td>6.0               </td></tr>\n",
       "<tr><td>4      </td><td>7.4               </td><td>0.7                </td><td>0.0                </td><td>1.9              </td><td>0.076               </td><td>11.0                 </td><td>34.0                  </td><td>0.9978               </td><td>3.51               </td><td>0.56              </td><td>9.4               </td><td>5.0               </td></tr>\n",
       "<tr><td>5      </td><td>7.4               </td><td>0.66               </td><td>0.0                </td><td>1.8              </td><td>0.075               </td><td>13.0                 </td><td>40.0                  </td><td>0.9978               </td><td>3.51               </td><td>0.56              </td><td>9.4               </td><td>5.0               </td></tr>\n",
       "<tr><td>6      </td><td>7.9               </td><td>0.6                </td><td>0.06               </td><td>1.6              </td><td>0.069               </td><td>15.0                 </td><td>59.0                  </td><td>0.9964               </td><td>3.3                </td><td>0.46              </td><td>9.4               </td><td>5.0               </td></tr>\n",
       "<tr><td>7      </td><td>7.3               </td><td>0.65               </td><td>0.0                </td><td>1.2              </td><td>0.065               </td><td>15.0                 </td><td>21.0                  </td><td>0.9946               </td><td>3.39               </td><td>0.47              </td><td>10.0              </td><td>7.0               </td></tr>\n",
       "<tr><td>8      </td><td>7.8               </td><td>0.58               </td><td>0.02               </td><td>2.0              </td><td>0.073               </td><td>9.0                  </td><td>18.0                  </td><td>0.9968               </td><td>3.36               </td><td>0.57              </td><td>9.5               </td><td>7.0               </td></tr>\n",
       "<tr><td>9      </td><td>7.5               </td><td>0.5                </td><td>0.36               </td><td>6.1              </td><td>0.071               </td><td>17.0                 </td><td>102.0                 </td><td>0.9978               </td><td>3.35               </td><td>0.8               </td><td>10.5              </td><td>5.0               </td></tr>\n",
       "</tbody>\n",
       "</table>"
      ]
     },
     "metadata": {},
     "output_type": "display_data"
    }
   ],
   "source": [
    "data.describe()"
   ]
  },
  {
   "cell_type": "code",
   "execution_count": 82,
   "metadata": {},
   "outputs": [],
   "source": [
    "predictors  = [x for x in data.col_names if x not in ['quality']]"
   ]
  },
  {
   "cell_type": "code",
   "execution_count": 83,
   "metadata": {},
   "outputs": [],
   "source": [
    "response  = \"quality\""
   ]
  },
  {
   "cell_type": "code",
   "execution_count": 84,
   "metadata": {},
   "outputs": [
    {
     "name": "stdout",
     "output_type": "stream",
     "text": [
      "Number of rows in train, valid and test set :  967 321 311\n"
     ]
    }
   ],
   "source": [
    "train[response] = train[response].asfactor()\n",
    "valid[response] = valid[response].asfactor()\n",
    "test[response] = test[response].asfactor()\n",
    "print(\"Number of rows in train, valid and test set : \", train.shape[0], valid.shape[0], test.shape[0])"
   ]
  },
  {
   "cell_type": "code",
   "execution_count": 85,
   "metadata": {},
   "outputs": [],
   "source": [
    "#train, test = data.split_frame(ratios=[0.7])\n",
    "train, valid, test = data.split_frame(ratios=[0.6,0.2], seed=1234)"
   ]
  },
  {
   "cell_type": "code",
   "execution_count": 86,
   "metadata": {},
   "outputs": [],
   "source": [
    "from h2o.estimators.gbm import H2OGradientBoostingEstimator"
   ]
  },
  {
   "cell_type": "code",
   "execution_count": 87,
   "metadata": {},
   "outputs": [],
   "source": [
    "def train_model(max_depth, \n",
    "                ntrees,\n",
    "                min_rows, \n",
    "                learn_rate, \n",
    "                sample_rate, \n",
    "                col_sample_rate):\n",
    "    params = {\n",
    "        'max_depth': int(max_depth),\n",
    "        'ntrees': int(ntrees),\n",
    "        'min_rows': int(min_rows),\n",
    "        'learn_rate':learn_rate,\n",
    "        'sample_rate':sample_rate,\n",
    "        'col_sample_rate':col_sample_rate\n",
    "    }\n",
    "    model = H2OGradientBoostingEstimator(nfolds=5,**params)\n",
    "    model.train(x=predictors, y=response, training_frame=train)\n",
    "    return -model.rmse()"
   ]
  },
  {
   "cell_type": "code",
   "execution_count": 88,
   "metadata": {},
   "outputs": [],
   "source": [
    "bounds = {\n",
    "    'max_depth':(5,10),\n",
    "    'ntrees': (100,500),\n",
    "    'min_rows':(10,30),\n",
    "    'learn_rate':(0.001, 0.01),\n",
    "    'sample_rate':(0.5,0.8),\n",
    "    'col_sample_rate':(0.5,0.8)\n",
    "}"
   ]
  },
  {
   "cell_type": "code",
   "execution_count": 89,
   "metadata": {},
   "outputs": [
    {
     "name": "stdout",
     "output_type": "stream",
     "text": [
      "|   iter    |  target   | col_sa... | learn_... | max_depth | min_rows  |  ntrees   | sample... |\n",
      "-------------------------------------------------------------------------------------------------\n",
      "gbm Model Build progress: |███████████████████████████████████████████████| 100%\n",
      "|  1        | -0.5907   |  0.6251   |  0.007483 |  5.001    |  16.05    |  158.7    |  0.5277   |\n",
      "gbm Model Build progress: |███████████████████████████████████████████████| 100%\n",
      "|  2        | -0.5849   |  0.5559   |  0.00411  |  6.984    |  20.78    |  267.7    |  0.7056   |\n",
      "gbm Model Build progress: |███████████████████████████████████████████████| 100%\n",
      "|  3        | -0.5377   |  0.5613   |  0.008903 |  5.137    |  23.41    |  266.9    |  0.6676   |\n",
      "gbm Model Build progress: |███████████████████████████████████████████████| 100%\n",
      "|  4        | -0.657    |  0.5421   |  0.002783 |  9.004    |  29.37    |  225.4    |  0.7077   |\n",
      "gbm Model Build progress: |███████████████████████████████████████████████| 100%\n",
      "|  5        | -0.5326   |  0.7629   |  0.009051 |  5.425    |  10.78    |  167.9    |  0.7634   |\n",
      "gbm Model Build progress: |███████████████████████████████████████████████| 100%\n",
      "|  6        | -0.5427   |  0.5295   |  0.00479  |  9.789    |  20.66    |  376.8    |  0.5947   |\n",
      "gbm Model Build progress: |███████████████████████████████████████████████| 100%\n",
      "|  7        | -0.5001   |  0.706    |  0.008512 |  5.091    |  25.0     |  495.5    |  0.7244   |\n",
      "gbm Model Build progress: |███████████████████████████████████████████████| 100%\n",
      "|  8        | -0.5036   |  0.5841   |  0.008104 |  5.516    |  18.96    |  463.4    |  0.5881   |\n",
      "gbm Model Build progress: |███████████████████████████████████████████████| 100%\n",
      "|  9        | -0.6936   |  0.5863   |  0.00217  |  5.097    |  23.58    |  184.7    |  0.5797   |\n",
      "gbm Model Build progress: |███████████████████████████████████████████████| 100%\n",
      "|  10       | -0.6454   |  0.6475   |  0.00148  |  7.871    |  12.93    |  335.7    |  0.7099   |\n",
      "gbm Model Build progress: |███████████████████████████████████████████████| 100%\n",
      "|  11       | -0.577    |  0.8      |  0.01     |  5.0      |  10.0     |  100.0    |  0.8      |\n",
      "gbm Model Build progress: |███████████████████████████████████████████████| 100%\n",
      "|  12       | -0.5024   |  0.8      |  0.01     |  5.0      |  30.0     |  424.0    |  0.8      |\n",
      "gbm Model Build progress: |███████████████████████████████████████████████| 100%\n",
      "|  13       | -0.6246   |  0.8      |  0.001    |  10.0     |  10.0     |  500.0    |  0.8      |\n",
      "gbm Model Build progress: |███████████████████████████████████████████████| 100%\n",
      "|  14       | -0.5494   |  0.5      |  0.01     |  5.0      |  30.0     |  331.1    |  0.5      |\n",
      "gbm Model Build progress: |███████████████████████████████████████████████| 100%\n",
      "|  15       | -0.6922   |  0.5      |  0.001    |  10.0     |  30.0     |  470.6    |  0.5      |\n",
      "gbm Model Build progress: |███████████████████████████████████████████████| 100%\n",
      "|  16       | -0.479    |  0.5      |  0.01     |  5.0      |  10.0     |  413.8    |  0.5      |\n",
      "gbm Model Build progress: |███████████████████████████████████████████████| 100%\n",
      "|  17       | -0.5117   |  0.8      |  0.01     |  5.0      |  10.0     |  230.9    |  0.5      |\n",
      "gbm Model Build progress: |███████████████████████████████████████████████| 100%\n",
      "|  18       | -0.5078   |  0.8      |  0.01     |  5.0      |  30.0     |  382.6    |  0.8      |\n",
      "gbm Model Build progress: |███████████████████████████████████████████████| 100%\n",
      "|  19       | -0.6019   |  0.8      |  0.01     |  10.0     |  30.0     |  100.0    |  0.8      |\n",
      "gbm Model Build progress: |███████████████████████████████████████████████| 100%\n",
      "|  20       | -0.4481   |  0.8      |  0.008264 |  5.0      |  10.0     |  441.9    |  0.8      |\n",
      "gbm Model Build progress: |███████████████████████████████████████████████| 100%\n",
      "|  21       | -0.4847   |  0.8      |  0.01     |  10.0     |  10.0     |  127.9    |  0.8      |\n",
      "gbm Model Build progress: |███████████████████████████████████████████████| 100%\n",
      "|  22       | -0.4458   |  0.8      |  0.01     |  5.0      |  10.0     |  374.0    |  0.8      |\n",
      "gbm Model Build progress: |███████████████████████████████████████████████| 100%\n",
      "|  23       | -0.5235   |  0.8      |  0.01     |  5.0      |  30.0     |  294.1    |  0.8      |\n",
      "gbm Model Build progress: |███████████████████████████████████████████████| 100%\n",
      "|  24       | -0.4253   |  0.8      |  0.01     |  5.0      |  10.0     |  478.9    |  0.8      |\n",
      "gbm Model Build progress: |███████████████████████████████████████████████| 100%\n",
      "|  25       | -0.4576   |  0.5862   |  0.008153 |  5.0      |  10.0     |  465.0    |  0.6901   |\n",
      "gbm Model Build progress: |███████████████████████████████████████████████| 100%\n",
      "|  26       | -0.5742   |  0.6373   |  0.00218  |  5.03     |  10.19    |  497.2    |  0.6841   |\n",
      "gbm Model Build progress: |███████████████████████████████████████████████| 100%\n",
      "|  27       | -0.4865   |  0.5      |  0.009782 |  10.0     |  10.0     |  203.1    |  0.5      |\n",
      "gbm Model Build progress: |███████████████████████████████████████████████| 100%\n",
      "|  28       | -0.514    |  0.8      |  0.01     |  5.0      |  30.0     |  358.1    |  0.8      |\n",
      "gbm Model Build progress: |███████████████████████████████████████████████| 100%\n",
      "|  29       | -0.5913   |  0.8      |  0.01     |  5.0      |  30.0     |  122.0    |  0.8      |\n",
      "gbm Model Build progress: |███████████████████████████████████████████████| 100%\n",
      "|  30       | -0.7233   |  0.8      |  0.001    |  5.0      |  10.0     |  206.0    |  0.8      |\n",
      "gbm Model Build progress: |███████████████████████████████████████████████| 100%\n",
      "|  31       | -0.5519   |  0.8      |  0.01     |  10.0     |  30.0     |  253.2    |  0.5      |\n",
      "gbm Model Build progress: |███████████████████████████████████████████████| 100%\n",
      "|  32       | -0.562    |  0.5      |  0.01     |  10.0     |  30.0     |  159.7    |  0.8      |\n",
      "gbm Model Build progress: |███████████████████████████████████████████████| 100%\n",
      "|  33       | -0.5001   |  0.5      |  0.01     |  10.0     |  10.0     |  179.2    |  0.5      |\n",
      "gbm Model Build progress: |███████████████████████████████████████████████| 100%\n",
      "|  34       | -0.4611   |  0.5      |  0.01     |  10.0     |  10.0     |  243.4    |  0.5      |\n",
      "gbm Model Build progress: |███████████████████████████████████████████████| 100%\n",
      "|  35       | -0.4994   |  0.5      |  0.01     |  5.0      |  10.0     |  303.8    |  0.5      |\n",
      "gbm Model Build progress: |███████████████████████████████████████████████| 100%\n",
      "|  36       | -0.6755   |  0.8      |  0.001    |  5.0      |  10.0     |  392.2    |  0.8      |\n",
      "gbm Model Build progress: |███████████████████████████████████████████████| 100%\n",
      "|  37       | -0.3818   |  0.8      |  0.01     |  10.0     |  10.0     |  427.6    |  0.5      |\n",
      "gbm Model Build progress: |███████████████████████████████████████████████| 100%\n",
      "|  38       | -0.488    |  0.5      |  0.01     |  5.0      |  10.0     |  358.2    |  0.5      |\n",
      "gbm Model Build progress: |███████████████████████████████████████████████| 100%\n",
      "|  39       | -0.4699   |  0.5      |  0.01     |  10.0     |  10.0     |  224.7    |  0.5      |\n",
      "gbm Model Build progress: |███████████████████████████████████████████████| 100%\n",
      "|  40       | -0.4551   |  0.8      |  0.01     |  10.0     |  10.0     |  153.2    |  0.8      |\n",
      "gbm Model Build progress: |███████████████████████████████████████████████| 100%\n",
      "|  41       | -0.4992   |  0.5      |  0.01     |  5.0      |  15.36    |  427.7    |  0.5      |\n",
      "gbm Model Build progress: |███████████████████████████████████████████████| 100%\n",
      "|  42       | -0.4658   |  0.8      |  0.01     |  10.0     |  30.0     |  408.2    |  0.8      |\n",
      "gbm Model Build progress: |███████████████████████████████████████████████| 100%\n",
      "|  43       | -0.3036   |  0.8      |  0.01     |  10.0     |  10.0     |  450.1    |  0.8      |\n",
      "gbm Model Build progress: |███████████████████████████████████████████████| 100%\n",
      "|  44       | -0.4138   |  0.8      |  0.01     |  10.0     |  21.9     |  443.6    |  0.8      |\n",
      "gbm Model Build progress: |███████████████████████████████████████████████| 100%\n"
     ]
    },
    {
     "name": "stdout",
     "output_type": "stream",
     "text": [
      "|  45       | -0.6661   |  0.5      |  0.001    |  10.0     |  10.0     |  443.0    |  0.5      |\n",
      "gbm Model Build progress: |███████████████████████████████████████████████| 100%\n",
      "|  46       | -0.706    |  0.8      |  0.001    |  10.0     |  30.0     |  312.6    |  0.8      |\n",
      "gbm Model Build progress: |███████████████████████████████████████████████| 100%\n",
      "|  47       | -0.4975   |  0.8      |  0.01     |  5.0      |  30.0     |  449.7    |  0.8      |\n",
      "gbm Model Build progress: |███████████████████████████████████████████████| 100%\n",
      "|  48       | -0.498    |  0.8      |  0.01     |  5.0      |  10.0     |  284.3    |  0.5      |\n",
      "gbm Model Build progress: |███████████████████████████████████████████████| 100%\n",
      "|  49       | -0.5733   |  0.5      |  0.01     |  10.0     |  30.0     |  202.1    |  0.5      |\n",
      "gbm Model Build progress: |███████████████████████████████████████████████| 100%\n",
      "|  50       | -0.7527   |  0.8      |  0.001    |  10.0     |  30.0     |  139.6    |  0.5      |\n",
      "gbm Model Build progress: |███████████████████████████████████████████████| 100%\n",
      "|  51       | -0.5522   |  0.5      |  0.01     |  10.0     |  30.0     |  278.3    |  0.5      |\n",
      "gbm Model Build progress: |███████████████████████████████████████████████| 100%\n",
      "|  52       | -0.7522   |  0.5      |  0.001    |  10.0     |  10.0     |  112.4    |  0.5      |\n",
      "gbm Model Build progress: |███████████████████████████████████████████████| 100%\n",
      "|  53       | -0.7453   |  0.5      |  0.001    |  5.0      |  10.0     |  139.3    |  0.8      |\n",
      "gbm Model Build progress: |███████████████████████████████████████████████| 100%\n",
      "|  54       | -0.6991   |  0.8      |  0.001    |  10.0     |  30.0     |  344.6    |  0.8      |\n",
      "gbm Model Build progress: |███████████████████████████████████████████████| 100%\n",
      "|  55       | -0.4476   |  0.8      |  0.01     |  10.0     |  30.0     |  500.0    |  0.8      |\n",
      "gbm Model Build progress: |███████████████████████████████████████████████| 100%\n",
      "|  56       | -0.4468   |  0.8      |  0.01     |  5.0      |  13.87    |  452.5    |  0.8      |\n",
      "gbm Model Build progress: |███████████████████████████████████████████████| 100%\n",
      "|  57       | -0.299    |  0.8      |  0.01     |  10.0     |  10.0     |  470.1    |  0.8      |\n",
      "gbm Model Build progress: |███████████████████████████████████████████████| 100%\n",
      "|  58       | -0.4606   |  0.8      |  0.01     |  10.0     |  30.0     |  435.9    |  0.8      |\n",
      "gbm Model Build progress: |███████████████████████████████████████████████| 100%\n",
      "|  59       | -0.5038   |  0.8      |  0.01     |  5.0      |  10.0     |  257.5    |  0.5      |\n",
      "gbm Model Build progress: |███████████████████████████████████████████████| 100%\n",
      "|  60       | -0.4601   |  0.8      |  0.01     |  5.0      |  10.0     |  320.2    |  0.8      |\n",
      "=================================================================================================\n"
     ]
    }
   ],
   "source": [
    "optimizer = BayesianOptimization(\n",
    "    f=train_model,\n",
    "    pbounds=bounds,\n",
    "    random_state=1,\n",
    ")\n",
    "optimizer.maximize(init_points=10, n_iter=50)"
   ]
  },
  {
   "cell_type": "code",
   "execution_count": 90,
   "metadata": {},
   "outputs": [
    {
     "data": {
      "text/plain": [
       "{'target': -0.2990458901088457,\n",
       " 'params': {'col_sample_rate': 0.8,\n",
       "  'learn_rate': 0.01,\n",
       "  'max_depth': 10.0,\n",
       "  'min_rows': 10.0,\n",
       "  'ntrees': 470.09324639220443,\n",
       "  'sample_rate': 0.8}}"
      ]
     },
     "execution_count": 90,
     "metadata": {},
     "output_type": "execute_result"
    }
   ],
   "source": [
    "optimizer.max"
   ]
  },
  {
   "cell_type": "code",
   "execution_count": 113,
   "metadata": {},
   "outputs": [],
   "source": [
    "gbm_tune = H2OGradientBoostingEstimator(\n",
    "  col_sample_rate= 0.8,\n",
    "  learn_rate= 0.01,\n",
    "  max_depth= 10,\n",
    "  min_rows= 10.0,\n",
    "  ntrees= 470,\n",
    "  sample_rate= 0.8\n",
    ")"
   ]
  },
  {
   "cell_type": "code",
   "execution_count": 114,
   "metadata": {},
   "outputs": [
    {
     "name": "stdout",
     "output_type": "stream",
     "text": [
      "gbm Model Build progress: |███████████████████████████████████████████████| 100%\n"
     ]
    }
   ],
   "source": [
    "gbm_tune.train(x=predictors, y=response, training_frame=train, validation_frame=valid)"
   ]
  },
  {
   "cell_type": "code",
   "execution_count": 115,
   "metadata": {},
   "outputs": [
    {
     "data": {
      "text/plain": [
       "0.2979915585688224"
      ]
     },
     "execution_count": 115,
     "metadata": {},
     "output_type": "execute_result"
    }
   ],
   "source": [
    "gbm_tune.model_performance(train).rmse()"
   ]
  },
  {
   "cell_type": "code",
   "execution_count": 116,
   "metadata": {},
   "outputs": [
    {
     "data": {
      "text/plain": [
       "0.5961260368482346"
      ]
     },
     "execution_count": 116,
     "metadata": {},
     "output_type": "execute_result"
    }
   ],
   "source": [
    "gbm_tune.model_performance(valid).rmse()"
   ]
  },
  {
   "cell_type": "code",
   "execution_count": 117,
   "metadata": {},
   "outputs": [
    {
     "data": {
      "text/plain": [
       "0.6385850946142128"
      ]
     },
     "execution_count": 117,
     "metadata": {},
     "output_type": "execute_result"
    }
   ],
   "source": [
    "gbm_tune.model_performance(test).rmse()"
   ]
  },
  {
   "cell_type": "code",
   "execution_count": 118,
   "metadata": {},
   "outputs": [
    {
     "name": "stdout",
     "output_type": "stream",
     "text": [
      "gbm Model Build progress: |███████████████████████████████████████████████| 100%\n"
     ]
    }
   ],
   "source": [
    "gbm = H2OGradientBoostingEstimator()\n",
    "gbm.train(x=predictors, y=response, training_frame=train)"
   ]
  },
  {
   "cell_type": "code",
   "execution_count": 119,
   "metadata": {},
   "outputs": [
    {
     "name": "stdout",
     "output_type": "stream",
     "text": [
      "Model Details\n",
      "=============\n",
      "H2OGradientBoostingEstimator :  Gradient Boosting Machine\n",
      "Model Key:  GBM_model_python_1572909938905_141760\n",
      "\n",
      "\n",
      "Model Summary: \n"
     ]
    },
    {
     "data": {
      "text/html": [
       "<div>\n",
       "<style scoped>\n",
       "    .dataframe tbody tr th:only-of-type {\n",
       "        vertical-align: middle;\n",
       "    }\n",
       "\n",
       "    .dataframe tbody tr th {\n",
       "        vertical-align: top;\n",
       "    }\n",
       "\n",
       "    .dataframe thead th {\n",
       "        text-align: right;\n",
       "    }\n",
       "</style>\n",
       "<table border=\"1\" class=\"dataframe\">\n",
       "  <thead>\n",
       "    <tr style=\"text-align: right;\">\n",
       "      <th></th>\n",
       "      <th></th>\n",
       "      <th>number_of_trees</th>\n",
       "      <th>number_of_internal_trees</th>\n",
       "      <th>model_size_in_bytes</th>\n",
       "      <th>min_depth</th>\n",
       "      <th>max_depth</th>\n",
       "      <th>mean_depth</th>\n",
       "      <th>min_leaves</th>\n",
       "      <th>max_leaves</th>\n",
       "      <th>mean_leaves</th>\n",
       "    </tr>\n",
       "  </thead>\n",
       "  <tbody>\n",
       "    <tr>\n",
       "      <th>0</th>\n",
       "      <td></td>\n",
       "      <td>50.0</td>\n",
       "      <td>50.0</td>\n",
       "      <td>14023.0</td>\n",
       "      <td>5.0</td>\n",
       "      <td>5.0</td>\n",
       "      <td>5.0</td>\n",
       "      <td>7.0</td>\n",
       "      <td>29.0</td>\n",
       "      <td>17.66</td>\n",
       "    </tr>\n",
       "  </tbody>\n",
       "</table>\n",
       "</div>"
      ],
      "text/plain": [
       "     number_of_trees  number_of_internal_trees  model_size_in_bytes  \\\n",
       "0               50.0                      50.0              14023.0   \n",
       "\n",
       "   min_depth  max_depth  mean_depth  min_leaves  max_leaves  mean_leaves  \n",
       "0        5.0        5.0         5.0         7.0        29.0        17.66  "
      ]
     },
     "metadata": {},
     "output_type": "display_data"
    },
    {
     "name": "stdout",
     "output_type": "stream",
     "text": [
      "\n",
      "\n",
      "ModelMetricsRegression: gbm\n",
      "** Reported on train data. **\n",
      "\n",
      "MSE: 0.16750653396043771\n",
      "RMSE: 0.40927562101893844\n",
      "MAE: 0.31585724523913156\n",
      "RMSLE: 0.06255560201191934\n",
      "Mean Residual Deviance: 0.16750653396043771\n",
      "\n",
      "Scoring History: \n"
     ]
    },
    {
     "data": {
      "text/html": [
       "<div>\n",
       "<style scoped>\n",
       "    .dataframe tbody tr th:only-of-type {\n",
       "        vertical-align: middle;\n",
       "    }\n",
       "\n",
       "    .dataframe tbody tr th {\n",
       "        vertical-align: top;\n",
       "    }\n",
       "\n",
       "    .dataframe thead th {\n",
       "        text-align: right;\n",
       "    }\n",
       "</style>\n",
       "<table border=\"1\" class=\"dataframe\">\n",
       "  <thead>\n",
       "    <tr style=\"text-align: right;\">\n",
       "      <th></th>\n",
       "      <th></th>\n",
       "      <th>timestamp</th>\n",
       "      <th>duration</th>\n",
       "      <th>number_of_trees</th>\n",
       "      <th>training_rmse</th>\n",
       "      <th>training_mae</th>\n",
       "      <th>training_deviance</th>\n",
       "    </tr>\n",
       "  </thead>\n",
       "  <tbody>\n",
       "    <tr>\n",
       "      <th>0</th>\n",
       "      <td></td>\n",
       "      <td>2019-11-04 21:27:39</td>\n",
       "      <td>0.000 sec</td>\n",
       "      <td>0.0</td>\n",
       "      <td>0.789145</td>\n",
       "      <td>0.672306</td>\n",
       "      <td>0.622749</td>\n",
       "    </tr>\n",
       "    <tr>\n",
       "      <th>1</th>\n",
       "      <td></td>\n",
       "      <td>2019-11-04 21:27:39</td>\n",
       "      <td>0.000 sec</td>\n",
       "      <td>1.0</td>\n",
       "      <td>0.752297</td>\n",
       "      <td>0.639229</td>\n",
       "      <td>0.565951</td>\n",
       "    </tr>\n",
       "    <tr>\n",
       "      <th>2</th>\n",
       "      <td></td>\n",
       "      <td>2019-11-04 21:27:39</td>\n",
       "      <td>0.000 sec</td>\n",
       "      <td>2.0</td>\n",
       "      <td>0.721151</td>\n",
       "      <td>0.609928</td>\n",
       "      <td>0.520059</td>\n",
       "    </tr>\n",
       "    <tr>\n",
       "      <th>3</th>\n",
       "      <td></td>\n",
       "      <td>2019-11-04 21:27:39</td>\n",
       "      <td>0.016 sec</td>\n",
       "      <td>3.0</td>\n",
       "      <td>0.692025</td>\n",
       "      <td>0.581823</td>\n",
       "      <td>0.478898</td>\n",
       "    </tr>\n",
       "    <tr>\n",
       "      <th>4</th>\n",
       "      <td></td>\n",
       "      <td>2019-11-04 21:27:39</td>\n",
       "      <td>0.016 sec</td>\n",
       "      <td>4.0</td>\n",
       "      <td>0.669507</td>\n",
       "      <td>0.558629</td>\n",
       "      <td>0.448240</td>\n",
       "    </tr>\n",
       "    <tr>\n",
       "      <th>5</th>\n",
       "      <td></td>\n",
       "      <td>2019-11-04 21:27:39</td>\n",
       "      <td>0.016 sec</td>\n",
       "      <td>5.0</td>\n",
       "      <td>0.647217</td>\n",
       "      <td>0.537402</td>\n",
       "      <td>0.418890</td>\n",
       "    </tr>\n",
       "    <tr>\n",
       "      <th>6</th>\n",
       "      <td></td>\n",
       "      <td>2019-11-04 21:27:39</td>\n",
       "      <td>0.016 sec</td>\n",
       "      <td>6.0</td>\n",
       "      <td>0.629491</td>\n",
       "      <td>0.519943</td>\n",
       "      <td>0.396259</td>\n",
       "    </tr>\n",
       "    <tr>\n",
       "      <th>7</th>\n",
       "      <td></td>\n",
       "      <td>2019-11-04 21:27:39</td>\n",
       "      <td>0.032 sec</td>\n",
       "      <td>7.0</td>\n",
       "      <td>0.612390</td>\n",
       "      <td>0.505381</td>\n",
       "      <td>0.375021</td>\n",
       "    </tr>\n",
       "    <tr>\n",
       "      <th>8</th>\n",
       "      <td></td>\n",
       "      <td>2019-11-04 21:27:39</td>\n",
       "      <td>0.032 sec</td>\n",
       "      <td>8.0</td>\n",
       "      <td>0.596205</td>\n",
       "      <td>0.490064</td>\n",
       "      <td>0.355461</td>\n",
       "    </tr>\n",
       "    <tr>\n",
       "      <th>9</th>\n",
       "      <td></td>\n",
       "      <td>2019-11-04 21:27:39</td>\n",
       "      <td>0.032 sec</td>\n",
       "      <td>9.0</td>\n",
       "      <td>0.583993</td>\n",
       "      <td>0.478547</td>\n",
       "      <td>0.341048</td>\n",
       "    </tr>\n",
       "    <tr>\n",
       "      <th>10</th>\n",
       "      <td></td>\n",
       "      <td>2019-11-04 21:27:39</td>\n",
       "      <td>0.032 sec</td>\n",
       "      <td>10.0</td>\n",
       "      <td>0.571896</td>\n",
       "      <td>0.466584</td>\n",
       "      <td>0.327065</td>\n",
       "    </tr>\n",
       "    <tr>\n",
       "      <th>11</th>\n",
       "      <td></td>\n",
       "      <td>2019-11-04 21:27:39</td>\n",
       "      <td>0.047 sec</td>\n",
       "      <td>11.0</td>\n",
       "      <td>0.560759</td>\n",
       "      <td>0.455789</td>\n",
       "      <td>0.314451</td>\n",
       "    </tr>\n",
       "    <tr>\n",
       "      <th>12</th>\n",
       "      <td></td>\n",
       "      <td>2019-11-04 21:27:39</td>\n",
       "      <td>0.047 sec</td>\n",
       "      <td>12.0</td>\n",
       "      <td>0.550898</td>\n",
       "      <td>0.446485</td>\n",
       "      <td>0.303489</td>\n",
       "    </tr>\n",
       "    <tr>\n",
       "      <th>13</th>\n",
       "      <td></td>\n",
       "      <td>2019-11-04 21:27:39</td>\n",
       "      <td>0.047 sec</td>\n",
       "      <td>13.0</td>\n",
       "      <td>0.542403</td>\n",
       "      <td>0.438681</td>\n",
       "      <td>0.294201</td>\n",
       "    </tr>\n",
       "    <tr>\n",
       "      <th>14</th>\n",
       "      <td></td>\n",
       "      <td>2019-11-04 21:27:39</td>\n",
       "      <td>0.047 sec</td>\n",
       "      <td>14.0</td>\n",
       "      <td>0.533536</td>\n",
       "      <td>0.430164</td>\n",
       "      <td>0.284660</td>\n",
       "    </tr>\n",
       "    <tr>\n",
       "      <th>15</th>\n",
       "      <td></td>\n",
       "      <td>2019-11-04 21:27:39</td>\n",
       "      <td>0.063 sec</td>\n",
       "      <td>15.0</td>\n",
       "      <td>0.524555</td>\n",
       "      <td>0.422237</td>\n",
       "      <td>0.275158</td>\n",
       "    </tr>\n",
       "    <tr>\n",
       "      <th>16</th>\n",
       "      <td></td>\n",
       "      <td>2019-11-04 21:27:39</td>\n",
       "      <td>0.063 sec</td>\n",
       "      <td>16.0</td>\n",
       "      <td>0.516363</td>\n",
       "      <td>0.414159</td>\n",
       "      <td>0.266630</td>\n",
       "    </tr>\n",
       "    <tr>\n",
       "      <th>17</th>\n",
       "      <td></td>\n",
       "      <td>2019-11-04 21:27:39</td>\n",
       "      <td>0.063 sec</td>\n",
       "      <td>17.0</td>\n",
       "      <td>0.509601</td>\n",
       "      <td>0.407705</td>\n",
       "      <td>0.259693</td>\n",
       "    </tr>\n",
       "    <tr>\n",
       "      <th>18</th>\n",
       "      <td></td>\n",
       "      <td>2019-11-04 21:27:39</td>\n",
       "      <td>0.063 sec</td>\n",
       "      <td>18.0</td>\n",
       "      <td>0.504570</td>\n",
       "      <td>0.403274</td>\n",
       "      <td>0.254591</td>\n",
       "    </tr>\n",
       "    <tr>\n",
       "      <th>19</th>\n",
       "      <td></td>\n",
       "      <td>2019-11-04 21:27:39</td>\n",
       "      <td>0.079 sec</td>\n",
       "      <td>19.0</td>\n",
       "      <td>0.497534</td>\n",
       "      <td>0.395715</td>\n",
       "      <td>0.247540</td>\n",
       "    </tr>\n",
       "  </tbody>\n",
       "</table>\n",
       "</div>"
      ],
      "text/plain": [
       "                timestamp    duration  number_of_trees  training_rmse  \\\n",
       "0     2019-11-04 21:27:39   0.000 sec              0.0       0.789145   \n",
       "1     2019-11-04 21:27:39   0.000 sec              1.0       0.752297   \n",
       "2     2019-11-04 21:27:39   0.000 sec              2.0       0.721151   \n",
       "3     2019-11-04 21:27:39   0.016 sec              3.0       0.692025   \n",
       "4     2019-11-04 21:27:39   0.016 sec              4.0       0.669507   \n",
       "5     2019-11-04 21:27:39   0.016 sec              5.0       0.647217   \n",
       "6     2019-11-04 21:27:39   0.016 sec              6.0       0.629491   \n",
       "7     2019-11-04 21:27:39   0.032 sec              7.0       0.612390   \n",
       "8     2019-11-04 21:27:39   0.032 sec              8.0       0.596205   \n",
       "9     2019-11-04 21:27:39   0.032 sec              9.0       0.583993   \n",
       "10    2019-11-04 21:27:39   0.032 sec             10.0       0.571896   \n",
       "11    2019-11-04 21:27:39   0.047 sec             11.0       0.560759   \n",
       "12    2019-11-04 21:27:39   0.047 sec             12.0       0.550898   \n",
       "13    2019-11-04 21:27:39   0.047 sec             13.0       0.542403   \n",
       "14    2019-11-04 21:27:39   0.047 sec             14.0       0.533536   \n",
       "15    2019-11-04 21:27:39   0.063 sec             15.0       0.524555   \n",
       "16    2019-11-04 21:27:39   0.063 sec             16.0       0.516363   \n",
       "17    2019-11-04 21:27:39   0.063 sec             17.0       0.509601   \n",
       "18    2019-11-04 21:27:39   0.063 sec             18.0       0.504570   \n",
       "19    2019-11-04 21:27:39   0.079 sec             19.0       0.497534   \n",
       "\n",
       "    training_mae  training_deviance  \n",
       "0       0.672306           0.622749  \n",
       "1       0.639229           0.565951  \n",
       "2       0.609928           0.520059  \n",
       "3       0.581823           0.478898  \n",
       "4       0.558629           0.448240  \n",
       "5       0.537402           0.418890  \n",
       "6       0.519943           0.396259  \n",
       "7       0.505381           0.375021  \n",
       "8       0.490064           0.355461  \n",
       "9       0.478547           0.341048  \n",
       "10      0.466584           0.327065  \n",
       "11      0.455789           0.314451  \n",
       "12      0.446485           0.303489  \n",
       "13      0.438681           0.294201  \n",
       "14      0.430164           0.284660  \n",
       "15      0.422237           0.275158  \n",
       "16      0.414159           0.266630  \n",
       "17      0.407705           0.259693  \n",
       "18      0.403274           0.254591  \n",
       "19      0.395715           0.247540  "
      ]
     },
     "metadata": {},
     "output_type": "display_data"
    },
    {
     "name": "stdout",
     "output_type": "stream",
     "text": [
      "\n",
      "See the whole table with table.as_data_frame()\n",
      "\n",
      "Variable Importances: \n"
     ]
    },
    {
     "data": {
      "text/html": [
       "<div>\n",
       "<style scoped>\n",
       "    .dataframe tbody tr th:only-of-type {\n",
       "        vertical-align: middle;\n",
       "    }\n",
       "\n",
       "    .dataframe tbody tr th {\n",
       "        vertical-align: top;\n",
       "    }\n",
       "\n",
       "    .dataframe thead th {\n",
       "        text-align: right;\n",
       "    }\n",
       "</style>\n",
       "<table border=\"1\" class=\"dataframe\">\n",
       "  <thead>\n",
       "    <tr style=\"text-align: right;\">\n",
       "      <th></th>\n",
       "      <th>variable</th>\n",
       "      <th>relative_importance</th>\n",
       "      <th>scaled_importance</th>\n",
       "      <th>percentage</th>\n",
       "    </tr>\n",
       "  </thead>\n",
       "  <tbody>\n",
       "    <tr>\n",
       "      <th>0</th>\n",
       "      <td>alcohol</td>\n",
       "      <td>843.688904</td>\n",
       "      <td>1.000000</td>\n",
       "      <td>0.363971</td>\n",
       "    </tr>\n",
       "    <tr>\n",
       "      <th>1</th>\n",
       "      <td>sulphates</td>\n",
       "      <td>330.955414</td>\n",
       "      <td>0.392272</td>\n",
       "      <td>0.142775</td>\n",
       "    </tr>\n",
       "    <tr>\n",
       "      <th>2</th>\n",
       "      <td>volatile acidity</td>\n",
       "      <td>281.781494</td>\n",
       "      <td>0.333987</td>\n",
       "      <td>0.121562</td>\n",
       "    </tr>\n",
       "    <tr>\n",
       "      <th>3</th>\n",
       "      <td>total sulfur dioxide</td>\n",
       "      <td>205.498779</td>\n",
       "      <td>0.243572</td>\n",
       "      <td>0.088653</td>\n",
       "    </tr>\n",
       "    <tr>\n",
       "      <th>4</th>\n",
       "      <td>free sulfur dioxide</td>\n",
       "      <td>118.924393</td>\n",
       "      <td>0.140958</td>\n",
       "      <td>0.051304</td>\n",
       "    </tr>\n",
       "    <tr>\n",
       "      <th>5</th>\n",
       "      <td>fixed acidity</td>\n",
       "      <td>112.835953</td>\n",
       "      <td>0.133741</td>\n",
       "      <td>0.048678</td>\n",
       "    </tr>\n",
       "    <tr>\n",
       "      <th>6</th>\n",
       "      <td>chlorides</td>\n",
       "      <td>110.459106</td>\n",
       "      <td>0.130924</td>\n",
       "      <td>0.047652</td>\n",
       "    </tr>\n",
       "    <tr>\n",
       "      <th>7</th>\n",
       "      <td>pH</td>\n",
       "      <td>97.845680</td>\n",
       "      <td>0.115974</td>\n",
       "      <td>0.042211</td>\n",
       "    </tr>\n",
       "    <tr>\n",
       "      <th>8</th>\n",
       "      <td>residual sugar</td>\n",
       "      <td>81.000473</td>\n",
       "      <td>0.096008</td>\n",
       "      <td>0.034944</td>\n",
       "    </tr>\n",
       "    <tr>\n",
       "      <th>9</th>\n",
       "      <td>citric acid</td>\n",
       "      <td>73.823807</td>\n",
       "      <td>0.087501</td>\n",
       "      <td>0.031848</td>\n",
       "    </tr>\n",
       "    <tr>\n",
       "      <th>10</th>\n",
       "      <td>density</td>\n",
       "      <td>61.198898</td>\n",
       "      <td>0.072537</td>\n",
       "      <td>0.026401</td>\n",
       "    </tr>\n",
       "  </tbody>\n",
       "</table>\n",
       "</div>"
      ],
      "text/plain": [
       "                variable  relative_importance  scaled_importance  percentage\n",
       "0                alcohol           843.688904           1.000000    0.363971\n",
       "1              sulphates           330.955414           0.392272    0.142775\n",
       "2       volatile acidity           281.781494           0.333987    0.121562\n",
       "3   total sulfur dioxide           205.498779           0.243572    0.088653\n",
       "4    free sulfur dioxide           118.924393           0.140958    0.051304\n",
       "5          fixed acidity           112.835953           0.133741    0.048678\n",
       "6              chlorides           110.459106           0.130924    0.047652\n",
       "7                     pH            97.845680           0.115974    0.042211\n",
       "8         residual sugar            81.000473           0.096008    0.034944\n",
       "9            citric acid            73.823807           0.087501    0.031848\n",
       "10               density            61.198898           0.072537    0.026401"
      ]
     },
     "metadata": {},
     "output_type": "display_data"
    },
    {
     "name": "stdout",
     "output_type": "stream",
     "text": [
      "\n"
     ]
    }
   ],
   "source": [
    "print(gbm)"
   ]
  },
  {
   "cell_type": "code",
   "execution_count": 127,
   "metadata": {},
   "outputs": [
    {
     "data": {
      "text/plain": [
       "0.4092755950930113"
      ]
     },
     "execution_count": 127,
     "metadata": {},
     "output_type": "execute_result"
    }
   ],
   "source": [
    "gbm.model_performance(train).rmse()"
   ]
  },
  {
   "cell_type": "code",
   "execution_count": 126,
   "metadata": {},
   "outputs": [
    {
     "data": {
      "text/plain": [
       "0.6283658790637019"
      ]
     },
     "execution_count": 126,
     "metadata": {},
     "output_type": "execute_result"
    }
   ],
   "source": [
    "gbm.model_performance(valid).rmse()"
   ]
  },
  {
   "cell_type": "code",
   "execution_count": 128,
   "metadata": {},
   "outputs": [
    {
     "data": {
      "text/plain": [
       "0.6549555232514734"
      ]
     },
     "execution_count": 128,
     "metadata": {},
     "output_type": "execute_result"
    }
   ],
   "source": [
    "gbm.model_performance(test).rmse()"
   ]
  },
  {
   "cell_type": "markdown",
   "metadata": {},
   "source": [
    "# Grid Search:"
   ]
  },
  {
   "cell_type": "code",
   "execution_count": 108,
   "metadata": {},
   "outputs": [],
   "source": [
    "from h2o.grid.grid_search import H2OGridSearch"
   ]
  },
  {
   "cell_type": "code",
   "execution_count": 109,
   "metadata": {},
   "outputs": [],
   "source": [
    "gbm_grid = H2OGradientBoostingEstimator(\n",
    "    ntrees = 3000,\n",
    "    learn_rate = 0.01,\n",
    "    stopping_rounds = 20,\n",
    "    col_sample_rate = 0.7,\n",
    "    sample_rate = 0.7,\n",
    "    seed = 1234\n",
    ") "
   ]
  },
  {
   "cell_type": "code",
   "execution_count": 110,
   "metadata": {},
   "outputs": [],
   "source": [
    "hyper_params = {'max_depth':[4,6,8,10,12]}\n",
    "grid = H2OGridSearch(gbm_grid, hyper_params,\n",
    "                         grid_id='depth_grid',\n",
    "                         search_criteria={'strategy': \"Cartesian\"})"
   ]
  },
  {
   "cell_type": "markdown",
   "metadata": {},
   "source": [
    "#Train grid search"
   ]
  },
  {
   "cell_type": "code",
   "execution_count": 111,
   "metadata": {},
   "outputs": [
    {
     "name": "stdout",
     "output_type": "stream",
     "text": [
      "gbm Grid Build progress: |████████████████████████████████████████████████| 100%\n"
     ]
    }
   ],
   "source": [
    "grid.train(x=predictors, \n",
    "           y=response,\n",
    "           training_frame=train,\n",
    "           validation_frame=valid)"
   ]
  },
  {
   "cell_type": "code",
   "execution_count": 112,
   "metadata": {},
   "outputs": [
    {
     "name": "stdout",
     "output_type": "stream",
     "text": [
      "    max_depth           model_ids    residual_deviance\n",
      "0           8  depth_grid_model_3   0.3679210115158657\n",
      "1          10  depth_grid_model_4  0.37529845115582056\n",
      "2          12  depth_grid_model_5   0.3757855733074295\n",
      "3           6  depth_grid_model_2   0.3809928726837449\n",
      "4           4  depth_grid_model_1  0.38623498475780405\n",
      "\n"
     ]
    }
   ],
   "source": [
    "print(grid)"
   ]
  },
  {
   "cell_type": "code",
   "execution_count": 125,
   "metadata": {},
   "outputs": [
    {
     "name": "stdout",
     "output_type": "stream",
     "text": [
      "    max_depth           model_ids                rmse\n",
      "0           8  depth_grid_model_3  0.6065649277001315\n",
      "1          10  depth_grid_model_4    0.61261607157813\n",
      "2          12  depth_grid_model_5  0.6130135180462414\n",
      "3           6  depth_grid_model_2  0.6172462010281998\n",
      "4           4  depth_grid_model_1  0.6214780645829779\n",
      "\n"
     ]
    }
   ],
   "source": [
    "sorted_grid = grid.get_grid(sort_by='rmse')\n",
    "print(sorted_grid)"
   ]
  },
  {
   "cell_type": "code",
   "execution_count": 131,
   "metadata": {},
   "outputs": [
    {
     "name": "stdout",
     "output_type": "stream",
     "text": [
      "gbm Model Build progress: |███████████████████████████████████████████████| 100%\n"
     ]
    }
   ],
   "source": [
    "cv_gbm = H2OGradientBoostingEstimator(\n",
    "    col_sample_rate= 0.8,\n",
    "  learn_rate= 0.01,\n",
    "  max_depth= 10,\n",
    "  min_rows= 10.0,\n",
    "  ntrees= 470,\n",
    "  sample_rate= 0.8)\n",
    "cv_gbm.train(x = predictors, y = response, training_frame = train, validation_frame=valid)\n",
    "\n"
   ]
  },
  {
   "cell_type": "code",
   "execution_count": 133,
   "metadata": {},
   "outputs": [
    {
     "data": {
      "text/plain": [
       "0.4092755950930113"
      ]
     },
     "execution_count": 133,
     "metadata": {},
     "output_type": "execute_result"
    }
   ],
   "source": [
    "gbm.model_performance(train).rmse()"
   ]
  },
  {
   "cell_type": "code",
   "execution_count": 132,
   "metadata": {},
   "outputs": [
    {
     "data": {
      "text/plain": [
       "0.5929563403172124"
      ]
     },
     "execution_count": 132,
     "metadata": {},
     "output_type": "execute_result"
    }
   ],
   "source": [
    "cv_gbm.model_performance(valid).rmse()"
   ]
  },
  {
   "cell_type": "code",
   "execution_count": 134,
   "metadata": {},
   "outputs": [
    {
     "data": {
      "text/plain": [
       "0.6549555232514734"
      ]
     },
     "execution_count": 134,
     "metadata": {},
     "output_type": "execute_result"
    }
   ],
   "source": [
    "gbm.model_performance(test).rmse()"
   ]
  },
  {
   "cell_type": "code",
   "execution_count": 150,
   "metadata": {},
   "outputs": [
    {
     "name": "stdout",
     "output_type": "stream",
     "text": [
      "AutoML progress: |████████████████████████████████████████████████████████| 100%\n"
     ]
    }
   ],
   "source": [
    "from h2o.automl import H2OAutoML\n",
    "\n",
    "aml = H2OAutoML(max_models = 10, max_runtime_secs=100, seed = 1)\n",
    "aml.train(x=predictors, y=response, training_frame=train)"
   ]
  },
  {
   "cell_type": "code",
   "execution_count": 151,
   "metadata": {},
   "outputs": [
    {
     "data": {
      "text/html": [
       "<table>\n",
       "<thead>\n",
       "<tr><th>model_id                                           </th><th style=\"text-align: right;\">  mean_residual_deviance</th><th style=\"text-align: right;\">    rmse</th><th style=\"text-align: right;\">     mse</th><th style=\"text-align: right;\">     mae</th><th style=\"text-align: right;\">    rmsle</th></tr>\n",
       "</thead>\n",
       "<tbody>\n",
       "<tr><td>StackedEnsemble_BestOfFamily_AutoML_20191104_215039</td><td style=\"text-align: right;\">                0.359968</td><td style=\"text-align: right;\">0.599973</td><td style=\"text-align: right;\">0.359968</td><td style=\"text-align: right;\">0.440206</td><td style=\"text-align: right;\">0.091911 </td></tr>\n",
       "<tr><td>StackedEnsemble_AllModels_AutoML_20191104_215039   </td><td style=\"text-align: right;\">                0.361282</td><td style=\"text-align: right;\">0.601067</td><td style=\"text-align: right;\">0.361282</td><td style=\"text-align: right;\">0.439031</td><td style=\"text-align: right;\">0.0920819</td></tr>\n",
       "<tr><td>XRT_1_AutoML_20191104_221115                       </td><td style=\"text-align: right;\">                0.362896</td><td style=\"text-align: right;\">0.602408</td><td style=\"text-align: right;\">0.362896</td><td style=\"text-align: right;\">0.441078</td><td style=\"text-align: right;\">0.0923315</td></tr>\n",
       "<tr><td>XRT_1_AutoML_20191104_215039                       </td><td style=\"text-align: right;\">                0.362896</td><td style=\"text-align: right;\">0.602408</td><td style=\"text-align: right;\">0.362896</td><td style=\"text-align: right;\">0.441078</td><td style=\"text-align: right;\">0.0923315</td></tr>\n",
       "<tr><td>XRT_1_AutoML_20191104_220851                       </td><td style=\"text-align: right;\">                0.362896</td><td style=\"text-align: right;\">0.602408</td><td style=\"text-align: right;\">0.362896</td><td style=\"text-align: right;\">0.441078</td><td style=\"text-align: right;\">0.0923315</td></tr>\n",
       "<tr><td>DRF_1_AutoML_20191104_221115                       </td><td style=\"text-align: right;\">                0.363681</td><td style=\"text-align: right;\">0.603059</td><td style=\"text-align: right;\">0.363681</td><td style=\"text-align: right;\">0.442818</td><td style=\"text-align: right;\">0.0924653</td></tr>\n",
       "<tr><td>DRF_1_AutoML_20191104_220851                       </td><td style=\"text-align: right;\">                0.363681</td><td style=\"text-align: right;\">0.603059</td><td style=\"text-align: right;\">0.363681</td><td style=\"text-align: right;\">0.442818</td><td style=\"text-align: right;\">0.0924653</td></tr>\n",
       "<tr><td>DRF_1_AutoML_20191104_215039                       </td><td style=\"text-align: right;\">                0.363681</td><td style=\"text-align: right;\">0.603059</td><td style=\"text-align: right;\">0.363681</td><td style=\"text-align: right;\">0.442818</td><td style=\"text-align: right;\">0.0924653</td></tr>\n",
       "<tr><td>GBM_4_AutoML_20191104_220851                       </td><td style=\"text-align: right;\">                0.379685</td><td style=\"text-align: right;\">0.616186</td><td style=\"text-align: right;\">0.379685</td><td style=\"text-align: right;\">0.46198 </td><td style=\"text-align: right;\">0.0945107</td></tr>\n",
       "<tr><td>GBM_4_AutoML_20191104_221115                       </td><td style=\"text-align: right;\">                0.379685</td><td style=\"text-align: right;\">0.616186</td><td style=\"text-align: right;\">0.379685</td><td style=\"text-align: right;\">0.46198 </td><td style=\"text-align: right;\">0.0945107</td></tr>\n",
       "</tbody>\n",
       "</table>"
      ]
     },
     "metadata": {},
     "output_type": "display_data"
    },
    {
     "data": {
      "text/plain": []
     },
     "execution_count": 151,
     "metadata": {},
     "output_type": "execute_result"
    }
   ],
   "source": [
    "lb = aml.leaderboard\n",
    "lb"
   ]
  },
  {
   "cell_type": "code",
   "execution_count": 152,
   "metadata": {},
   "outputs": [
    {
     "name": "stdout",
     "output_type": "stream",
     "text": [
      "AutoML progress: |████████████████████████████████████████████████████████| 100%\n"
     ]
    }
   ],
   "source": [
    "from h2o.automl import H2OAutoML\n",
    "\n",
    "aml = H2OAutoML(max_models = 10, max_runtime_secs=100, seed = 1)\n",
    "aml.train(x=predictors, y=response, training_frame=train,leaderboard_frame = valid )"
   ]
  },
  {
   "cell_type": "code",
   "execution_count": 153,
   "metadata": {},
   "outputs": [
    {
     "data": {
      "text/html": [
       "<table>\n",
       "<thead>\n",
       "<tr><th>model_id                                           </th><th style=\"text-align: right;\">  mean_residual_deviance</th><th style=\"text-align: right;\">    rmse</th><th style=\"text-align: right;\">     mse</th><th style=\"text-align: right;\">     mae</th><th style=\"text-align: right;\">    rmsle</th></tr>\n",
       "</thead>\n",
       "<tbody>\n",
       "<tr><td>StackedEnsemble_AllModels_AutoML_20191104_215039   </td><td style=\"text-align: right;\">                0.343839</td><td style=\"text-align: right;\">0.586378</td><td style=\"text-align: right;\">0.343839</td><td style=\"text-align: right;\">0.428857</td><td style=\"text-align: right;\">0.0922593</td></tr>\n",
       "<tr><td>StackedEnsemble_BestOfFamily_AutoML_20191104_215039</td><td style=\"text-align: right;\">                0.344798</td><td style=\"text-align: right;\">0.587195</td><td style=\"text-align: right;\">0.344798</td><td style=\"text-align: right;\">0.431124</td><td style=\"text-align: right;\">0.0923755</td></tr>\n",
       "<tr><td>DRF_1_AutoML_20191104_221115                       </td><td style=\"text-align: right;\">                0.347866</td><td style=\"text-align: right;\">0.589801</td><td style=\"text-align: right;\">0.347866</td><td style=\"text-align: right;\">0.426467</td><td style=\"text-align: right;\">0.0930789</td></tr>\n",
       "<tr><td>DRF_1_AutoML_20191104_221244                       </td><td style=\"text-align: right;\">                0.347866</td><td style=\"text-align: right;\">0.589801</td><td style=\"text-align: right;\">0.347866</td><td style=\"text-align: right;\">0.426467</td><td style=\"text-align: right;\">0.0930789</td></tr>\n",
       "<tr><td>DRF_1_AutoML_20191104_220851                       </td><td style=\"text-align: right;\">                0.347866</td><td style=\"text-align: right;\">0.589801</td><td style=\"text-align: right;\">0.347866</td><td style=\"text-align: right;\">0.426467</td><td style=\"text-align: right;\">0.0930789</td></tr>\n",
       "<tr><td>DRF_1_AutoML_20191104_215039                       </td><td style=\"text-align: right;\">                0.347866</td><td style=\"text-align: right;\">0.589801</td><td style=\"text-align: right;\">0.347866</td><td style=\"text-align: right;\">0.426467</td><td style=\"text-align: right;\">0.0930789</td></tr>\n",
       "<tr><td>GBM_4_AutoML_20191104_220851                       </td><td style=\"text-align: right;\">                0.361211</td><td style=\"text-align: right;\">0.601008</td><td style=\"text-align: right;\">0.361211</td><td style=\"text-align: right;\">0.453241</td><td style=\"text-align: right;\">0.0939886</td></tr>\n",
       "<tr><td>GBM_4_AutoML_20191104_221244                       </td><td style=\"text-align: right;\">                0.361211</td><td style=\"text-align: right;\">0.601008</td><td style=\"text-align: right;\">0.361211</td><td style=\"text-align: right;\">0.453241</td><td style=\"text-align: right;\">0.0939886</td></tr>\n",
       "<tr><td>GBM_4_AutoML_20191104_221115                       </td><td style=\"text-align: right;\">                0.361211</td><td style=\"text-align: right;\">0.601008</td><td style=\"text-align: right;\">0.361211</td><td style=\"text-align: right;\">0.453241</td><td style=\"text-align: right;\">0.0939886</td></tr>\n",
       "<tr><td>GBM_4_AutoML_20191104_215039                       </td><td style=\"text-align: right;\">                0.361211</td><td style=\"text-align: right;\">0.601008</td><td style=\"text-align: right;\">0.361211</td><td style=\"text-align: right;\">0.453241</td><td style=\"text-align: right;\">0.0939886</td></tr>\n",
       "</tbody>\n",
       "</table>"
      ]
     },
     "metadata": {},
     "output_type": "display_data"
    },
    {
     "data": {
      "text/plain": []
     },
     "execution_count": 153,
     "metadata": {},
     "output_type": "execute_result"
    }
   ],
   "source": [
    "lb = aml.leaderboard\n",
    "lb"
   ]
  },
  {
   "cell_type": "code",
   "execution_count": 155,
   "metadata": {},
   "outputs": [
    {
     "name": "stdout",
     "output_type": "stream",
     "text": [
      "AutoML progress: |████████████████████████████████████████████████████████| 100%\n"
     ]
    }
   ],
   "source": [
    "from h2o.automl import H2OAutoML\n",
    "\n",
    "aml = H2OAutoML(max_models = 10, max_runtime_secs=100, seed = 1)\n",
    "aml.train(x=predictors, y=response, training_frame=train,validation_frame=valid,leaderboard_frame = test )"
   ]
  },
  {
   "cell_type": "code",
   "execution_count": 156,
   "metadata": {},
   "outputs": [
    {
     "data": {
      "text/html": [
       "<table>\n",
       "<thead>\n",
       "<tr><th>model_id                                           </th><th style=\"text-align: right;\">  mean_residual_deviance</th><th style=\"text-align: right;\">    rmse</th><th style=\"text-align: right;\">     mse</th><th style=\"text-align: right;\">     mae</th><th style=\"text-align: right;\">    rmsle</th></tr>\n",
       "</thead>\n",
       "<tbody>\n",
       "<tr><td>DRF_1_AutoML_20191104_221115                       </td><td style=\"text-align: right;\">                0.388294</td><td style=\"text-align: right;\">0.623132</td><td style=\"text-align: right;\">0.388294</td><td style=\"text-align: right;\">0.466307</td><td style=\"text-align: right;\">0.0988544</td></tr>\n",
       "<tr><td>DRF_1_AutoML_20191104_221401                       </td><td style=\"text-align: right;\">                0.388294</td><td style=\"text-align: right;\">0.623132</td><td style=\"text-align: right;\">0.388294</td><td style=\"text-align: right;\">0.466307</td><td style=\"text-align: right;\">0.0988544</td></tr>\n",
       "<tr><td>DRF_1_AutoML_20191104_221244                       </td><td style=\"text-align: right;\">                0.388294</td><td style=\"text-align: right;\">0.623132</td><td style=\"text-align: right;\">0.388294</td><td style=\"text-align: right;\">0.466307</td><td style=\"text-align: right;\">0.0988544</td></tr>\n",
       "<tr><td>DRF_1_AutoML_20191104_220851                       </td><td style=\"text-align: right;\">                0.388294</td><td style=\"text-align: right;\">0.623132</td><td style=\"text-align: right;\">0.388294</td><td style=\"text-align: right;\">0.466307</td><td style=\"text-align: right;\">0.0988544</td></tr>\n",
       "<tr><td>DRF_1_AutoML_20191104_215039                       </td><td style=\"text-align: right;\">                0.388294</td><td style=\"text-align: right;\">0.623132</td><td style=\"text-align: right;\">0.388294</td><td style=\"text-align: right;\">0.466307</td><td style=\"text-align: right;\">0.0988544</td></tr>\n",
       "<tr><td>StackedEnsemble_AllModels_AutoML_20191104_215039   </td><td style=\"text-align: right;\">                0.390807</td><td style=\"text-align: right;\">0.625146</td><td style=\"text-align: right;\">0.390807</td><td style=\"text-align: right;\">0.471032</td><td style=\"text-align: right;\">0.0989781</td></tr>\n",
       "<tr><td>StackedEnsemble_BestOfFamily_AutoML_20191104_215039</td><td style=\"text-align: right;\">                0.391708</td><td style=\"text-align: right;\">0.625866</td><td style=\"text-align: right;\">0.391708</td><td style=\"text-align: right;\">0.47271 </td><td style=\"text-align: right;\">0.0990705</td></tr>\n",
       "<tr><td>GBM_3_AutoML_20191104_221401                       </td><td style=\"text-align: right;\">                0.400076</td><td style=\"text-align: right;\">0.632516</td><td style=\"text-align: right;\">0.400076</td><td style=\"text-align: right;\">0.495361</td><td style=\"text-align: right;\">0.100226 </td></tr>\n",
       "<tr><td>GBM_3_AutoML_20191104_215039                       </td><td style=\"text-align: right;\">                0.400076</td><td style=\"text-align: right;\">0.632516</td><td style=\"text-align: right;\">0.400076</td><td style=\"text-align: right;\">0.495361</td><td style=\"text-align: right;\">0.100226 </td></tr>\n",
       "<tr><td>GBM_3_AutoML_20191104_220851                       </td><td style=\"text-align: right;\">                0.400076</td><td style=\"text-align: right;\">0.632516</td><td style=\"text-align: right;\">0.400076</td><td style=\"text-align: right;\">0.495361</td><td style=\"text-align: right;\">0.100226 </td></tr>\n",
       "</tbody>\n",
       "</table>"
      ]
     },
     "metadata": {},
     "output_type": "display_data"
    },
    {
     "data": {
      "text/plain": []
     },
     "execution_count": 156,
     "metadata": {},
     "output_type": "execute_result"
    }
   ],
   "source": [
    "lb = aml.leaderboard\n",
    "lb"
   ]
  },
  {
   "cell_type": "code",
   "execution_count": null,
   "metadata": {},
   "outputs": [],
   "source": []
  }
 ],
 "metadata": {
  "kernelspec": {
   "display_name": "Python 3",
   "language": "python",
   "name": "python3"
  },
  "language_info": {
   "codemirror_mode": {
    "name": "ipython",
    "version": 3
   },
   "file_extension": ".py",
   "mimetype": "text/x-python",
   "name": "python",
   "nbconvert_exporter": "python",
   "pygments_lexer": "ipython3",
   "version": "3.7.3"
  }
 },
 "nbformat": 4,
 "nbformat_minor": 2
}
